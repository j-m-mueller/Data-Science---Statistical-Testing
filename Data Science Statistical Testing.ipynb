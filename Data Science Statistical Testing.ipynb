{
 "cells": [
  {
   "cell_type": "markdown",
   "metadata": {},
   "source": [
    "# Statistical Testing\n",
    "\n",
    "This notebook demonstrates a some statistical testing operations in *SciPy*.\n",
    "\n",
    "The script loads the diabetes dataset from the *sklearn* package by default for demonstrative purposes."
   ]
  },
  {
   "cell_type": "code",
   "execution_count": 1,
   "metadata": {},
   "outputs": [],
   "source": [
    "# general imports\n",
    "import pandas as pd\n",
    "import numpy as np\n",
    "import seaborn as sns\n",
    "import matplotlib.pyplot as plt"
   ]
  },
  {
   "cell_type": "code",
   "execution_count": 2,
   "metadata": {},
   "outputs": [],
   "source": [
    "# load demo dataset\n",
    "from sklearn.datasets import load_diabetes\n",
    "dataset = load_diabetes()"
   ]
  },
  {
   "cell_type": "markdown",
   "metadata": {},
   "source": [
    "## First check of data\n",
    "*Print dataset description (only if available):*"
   ]
  },
  {
   "cell_type": "code",
   "execution_count": 3,
   "metadata": {},
   "outputs": [
    {
     "name": "stdout",
     "output_type": "stream",
     "text": [
      "Diabetes dataset\n",
      "================\n",
      "\n",
      "Notes\n",
      "-----\n",
      "\n",
      "Ten baseline variables, age, sex, body mass index, average blood\n",
      "pressure, and six blood serum measurements were obtained for each of n =\n",
      "442 diabetes patients, as well as the response of interest, a\n",
      "quantitative measure of disease progression one year after baseline.\n",
      "\n",
      "Data Set Characteristics:\n",
      "\n",
      "  :Number of Instances: 442\n",
      "\n",
      "  :Number of Attributes: First 10 columns are numeric predictive values\n",
      "\n",
      "  :Target: Column 11 is a quantitative measure of disease progression one year after baseline\n",
      "\n",
      "  :Attributes:\n",
      "    :Age:\n",
      "    :Sex:\n",
      "    :Body mass index:\n",
      "    :Average blood pressure:\n",
      "    :S1:\n",
      "    :S2:\n",
      "    :S3:\n",
      "    :S4:\n",
      "    :S5:\n",
      "    :S6:\n",
      "\n",
      "Note: Each of these 10 feature variables have been mean centered and scaled by the standard deviation times `n_samples` (i.e. the sum of squares of each column totals 1).\n",
      "\n",
      "Source URL:\n",
      "http://www4.stat.ncsu.edu/~boos/var.select/diabetes.html\n",
      "\n",
      "For more information see:\n",
      "Bradley Efron, Trevor Hastie, Iain Johnstone and Robert Tibshirani (2004) \"Least Angle Regression,\" Annals of Statistics (with discussion), 407-499.\n",
      "(http://web.stanford.edu/~hastie/Papers/LARS/LeastAngle_2002.pdf)\n",
      "\n"
     ]
    }
   ],
   "source": [
    "if hasattr(dataset, 'DESCR'):\n",
    "    print(dataset['DESCR'])"
   ]
  },
  {
   "cell_type": "markdown",
   "metadata": {},
   "source": [
    "*Convert dataset to Pandas DataFrame (DF), add target data as new column, and check DF head:*"
   ]
  },
  {
   "cell_type": "code",
   "execution_count": 4,
   "metadata": {
    "scrolled": true
   },
   "outputs": [
    {
     "name": "stdout",
     "output_type": "stream",
     "text": [
      "        age       sex       bmi        bp        s1        s2        s3  \\\n",
      "0  0.038076  0.050680  0.061696  0.021872 -0.044223 -0.034821 -0.043401   \n",
      "1 -0.001882 -0.044642 -0.051474 -0.026328 -0.008449 -0.019163  0.074412   \n",
      "2  0.085299  0.050680  0.044451 -0.005671 -0.045599 -0.034194 -0.032356   \n",
      "3 -0.089063 -0.044642 -0.011595 -0.036656  0.012191  0.024991 -0.036038   \n",
      "4  0.005383 -0.044642 -0.036385  0.021872  0.003935  0.015596  0.008142   \n",
      "\n",
      "         s4        s5        s6  TARGET  \n",
      "0 -0.002592  0.019908 -0.017646   151.0  \n",
      "1 -0.039493 -0.068330 -0.092204    75.0  \n",
      "2 -0.002592  0.002864 -0.025930   141.0  \n",
      "3  0.034309  0.022692 -0.009362   206.0  \n",
      "4 -0.002592 -0.031991 -0.046641   135.0  \n"
     ]
    }
   ],
   "source": [
    "data_df = pd.DataFrame(data=dataset['data'])\n",
    "data_df.columns=dataset['feature_names']\n",
    "data_df['TARGET'] = dataset['target']\n",
    "print(data_df.head(5))"
   ]
  },
  {
   "cell_type": "markdown",
   "metadata": {},
   "source": [
    "## Distribution of each Feature\n",
    "\n",
    "- Is the distribution of each Feature Gaussian?"
   ]
  },
  {
   "cell_type": "code",
   "execution_count": 5,
   "metadata": {},
   "outputs": [
    {
     "name": "stdout",
     "output_type": "stream",
     "text": [
      "The distribution of age doesn't seem to be Gaussian (stat=0.982, p=0.000).\n",
      "The distribution of sex doesn't seem to be Gaussian (stat=0.635, p=0.000).\n",
      "The distribution of bmi doesn't seem to be Gaussian (stat=0.973, p=0.000).\n",
      "The distribution of bp doesn't seem to be Gaussian (stat=0.984, p=0.000).\n",
      "The distribution of s1 doesn't seem to be Gaussian (stat=0.990, p=0.005).\n",
      "The distribution of s2 doesn't seem to be Gaussian (stat=0.988, p=0.001).\n",
      "The distribution of s3 doesn't seem to be Gaussian (stat=0.963, p=0.000).\n",
      "The distribution of s4 doesn't seem to be Gaussian (stat=0.924, p=0.000).\n",
      "The distribution of s5 doesn't seem to be Gaussian (stat=0.991, p=0.010).\n",
      "The distribution of s6 doesn't seem to be Gaussian (stat=0.993, p=0.041).\n",
      "The distribution of TARGET doesn't seem to be Gaussian (stat=0.949, p=0.000).\n",
      "\n",
      "Positive test for normal distribution was successful (p=0.338).\n"
     ]
    }
   ],
   "source": [
    "# Check for Gaussian Distribution with the Shapiro-Wilk Normality Test\n",
    "from scipy.stats import shapiro\n",
    "\n",
    "for col_name in data_df.columns: \n",
    "    # print(f\"Data for {col_name}: {list(data_df[col_name])}\")\n",
    "    stat, p = shapiro(list(data_df[col_name]))\n",
    "    if p > 0.05:\n",
    "        print(f\"The distribution of {col_name} seems to be Gaussian ({'stat=%.3f, p=%.3f' % (stat, p)}).\")\n",
    "    else:\n",
    "        print(f\"The distribution of {col_name} doesn't seem to be Gaussian ({'stat=%.3f, p=%.3f' % (stat, p)}).\")\n",
    "        \n",
    "# Positive test: random sampling from a normal distribution:\n",
    "normal_dist = np.random.normal(0, 0.1, 1000)\n",
    "stat, p = shapiro(normal_dist)\n",
    "if p > 0.05:\n",
    "    print(f\"\\nPositive test for normal distribution was successful (p={round(p, 3)}).\")\n",
    "else:\n",
    "    print(f\"\\nPositive test for normal distribution failed (p={round(p, 3)}).\")"
   ]
  },
  {
   "cell_type": "markdown",
   "metadata": {},
   "source": [
    "- Is the difference between the diabetes progression (target) for persons with a scaled bmi > 0.02 (overweight) statistically greater than for persons with a scaled bmi < 0.02 (underweight)?"
   ]
  },
  {
   "cell_type": "code",
   "execution_count": 6,
   "metadata": {},
   "outputs": [
    {
     "name": "stdout",
     "output_type": "stream",
     "text": [
      "Average diabetes progression: overweight: 208.62+/-72.53, underweight: 127.82+/-65.22.\n",
      "\n",
      "Result of Student t-test: stat=11.515, p=0.000\n",
      "\n",
      "The samples probably belong to different distributions.\n"
     ]
    }
   ],
   "source": [
    "# Data aggregation:\n",
    "overweight = data_df[data_df['bmi'] > 0.02]\n",
    "underweight = data_df[data_df['bmi'] < 0.02]\n",
    "\n",
    "# Are the House Prices statistically different according to the Student's t-test? (p=0.05):\n",
    "from scipy.stats import ttest_ind\n",
    "\n",
    "overweight_dia_prog = overweight['TARGET']\n",
    "underweight_dia_prog = underweight['TARGET']\n",
    "\n",
    "# Print mean values and standard deviation for each group:\n",
    "print(f\"Average diabetes progression: overweight: {round(np.mean(overweight_dia_prog), 2)}+/-{round(np.std(overweight_dia_prog), 2)}, \"\n",
    "      f\"underweight: {round(np.mean(underweight_dia_prog), 2)}+/-{round(np.std(underweight_dia_prog), 2)}.\")\n",
    "\n",
    "stat, p = ttest_ind(overweight_dia_prog, underweight_dia_prog)\n",
    "\n",
    "print('\\nResult of Student t-test: stat=%.3f, p=%.3f' % (stat, p))\n",
    "\n",
    "if p > 0.05:\n",
    "    print('\\nThe samples probably belong to the same distribution.')\n",
    "else:\n",
    "    print('\\nThe samples probably belong to different distributions.')"
   ]
  },
  {
   "cell_type": "markdown",
   "metadata": {},
   "source": [
    "*Plot the two distributions including the Kernel Density Estimation for a graphical impression:*"
   ]
  },
  {
   "cell_type": "code",
   "execution_count": 7,
   "metadata": {},
   "outputs": [
    {
     "name": "stderr",
     "output_type": "stream",
     "text": [
      "C:\\Users\\forkfighter\\Anaconda3\\lib\\site-packages\\scipy\\stats\\stats.py:1706: FutureWarning: Using a non-tuple sequence for multidimensional indexing is deprecated; use `arr[tuple(seq)]` instead of `arr[seq]`. In the future this will be interpreted as an array index, `arr[np.array(seq)]`, which will result either in an error or a different result.\n",
      "  return np.add.reduce(sorted[indexer] * weights, axis=axis) / sumval\n"
     ]
    },
    {
     "data": {
      "image/png": "[encoded data removed]",
      "text/plain": [
       "<Figure size 720x576 with 1 Axes>"
      ]
     },
     "metadata": {},
     "output_type": "display_data"
    }
   ],
   "source": [
    "fig, ax = plt.subplots(figsize=(10,8))\n",
    "\n",
    "sns.set()  # beautify plots\n",
    "\n",
    "sns.distplot(overweight_dia_prog, ax=ax, label='Overweight Patients')\n",
    "sns.distplot(underweight_dia_prog, ax=ax, label='Underweight Patients')\n",
    "\n",
    "ax.set(xlabel='Relative Diabetes Progression', ylabel='Relative Distribution')\n",
    "plt.legend()\n",
    "plt.show()"
   ]
  },
  {
   "cell_type": "markdown",
   "metadata": {},
   "source": [
    "*Analysis of Kurtosis and Skewness of a Single Distribution:*\n",
    "\n",
    "<img src=\"https://s3-eu-west-1.amazonaws.com/ppreviews-plos-725668748/693627/preview.jpg\" alt=\"Skewness and Kurtosis\" style=\"width: 600px;\"/>\n",
    "\n",
    "(image from PLOS One, \"Interpreting the properties of skewness and kurtosis in histograms.\", Najafi *et al.*, 2013)"
   ]
  },
  {
   "cell_type": "code",
   "execution_count": 8,
   "metadata": {
    "scrolled": true
   },
   "outputs": [
    {
     "name": "stdout",
     "output_type": "stream",
     "text": [
      "\n",
      "Analysis of the Overweight Patients distribution:\n",
      "p value for kurtosis test: 0.0015065678047235214 (kurtosis doesn't match the one of a normal distribution).\n",
      "The distribution has a negative kurtosis (distribution is wider than the normal distribution).\n",
      "p value for skewness test: 0.16641168953970853 (skewness matches the one of a normal distribution).\n",
      "\n",
      "Analysis of the Underweight Patients distribution:\n",
      "p value for kurtosis test: 0.1083085129035961 (kurtosis matches the one of a normal distribution).\n",
      "p value for skewness test: 2.157117445785719e-06 (skewness doesn't match the one of a normal distribution).\n",
      "The distribution has a positive skew (mean > median).\n",
      "\n",
      "Control values for normal distribution:\n",
      "Skewness test value: -0.967, skewness p value: 0.334.\n",
      "Kurtosis test value: 0.051, kurtosis p value: 0.96\n"
     ]
    }
   ],
   "source": [
    "from scipy.stats import skewtest, kurtosistest\n",
    "\n",
    "for name, prog in zip(['Overweight Patients', 'Underweight Patients'], [overweight_dia_prog, underweight_dia_prog]):\n",
    "    skew_stat, skew_p = skewtest(prog)\n",
    "    kurt_stat, kurt_p = kurtosistest(prog)\n",
    "    \n",
    "    print(f\"\\nAnalysis of the {name} distribution:\")\n",
    "    print(f\"p value for kurtosis test: {kurt_p} (kurtosis %s the one of a normal distribution).\" % (\"doesn't match\" if kurt_p < 0.05 else \"matches\"))\n",
    "    if kurt_p < 0.05:\n",
    "        print(f\"The distribution has a %s kurtosis (distribution is %s than the normal distribution).\" % (\"positive\" if kurt_stat > 0 else \"negative\", \"more narrow\" if kurt_stat > 0 else \"wider\"))\n",
    "    print(f\"p value for skewness test: {skew_p} (skewness %s the one of a normal distribution).\" % (\"doesn't match\" if skew_p < 0.05 else \"matches\"))\n",
    "    if skew_p < 0.05:\n",
    "        print(f\"The distribution has a %s skew (%s).\" % (\"positive\" if skew_stat > 0 else \"negative\", \"mean > median\" if skew_stat > 0 else \"mean < median\"))\n",
    "    \n",
    "# get kurtosis and skewness for normal distribution created above:\n",
    "skew_stat, skew_p = skewtest(normal_dist)\n",
    "kurt_stat, kurt_p = kurtosistest(normal_dist)\n",
    "print(f\"\\nControl values for normal distribution:\\nSkewness test value: {round(skew_stat, 3)}, skewness p value: {round(skew_p, 3)}.\\nKurtosis test value: {round(kurt_stat, 3)}, kurtosis p value: {round(kurt_p, 3)}\")"
   ]
  }
 ],
 "metadata": {
  "kernelspec": {
   "display_name": "Python 3",
   "language": "python",
   "name": "python3"
  },
  "language_info": {
   "codemirror_mode": {
    "name": "ipython",
    "version": 3
   },
   "file_extension": ".py",
   "mimetype": "text/x-python",
   "name": "python",
   "nbconvert_exporter": "python",
   "pygments_lexer": "ipython3",
   "version": "3.6.4"
  }
 },
 "nbformat": 4,
 "nbformat_minor": 2
}
